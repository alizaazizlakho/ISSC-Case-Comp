{
  "nbformat": 4,
  "nbformat_minor": 0,
  "metadata": {
    "colab": {
      "name": "Well-being files",
      "provenance": []
    },
    "kernelspec": {
      "name": "python3",
      "display_name": "Python 3"
    },
    "language_info": {
      "name": "python"
    }
  },
  "cells": [
    {
      "cell_type": "code",
      "metadata": {
        "colab": {
          "base_uri": "https://localhost:8080/"
        },
        "id": "9K7I-4Le36SR",
        "outputId": "e2186b71-0cae-4b8c-c72b-ba1c36d54cd6"
      },
      "source": [
        "pip install geopy "
      ],
      "execution_count": 1,
      "outputs": [
        {
          "output_type": "stream",
          "text": [
            "Requirement already satisfied: geopy in /usr/local/lib/python3.7/dist-packages (1.17.0)\n",
            "Requirement already satisfied: geographiclib<2,>=1.49 in /usr/local/lib/python3.7/dist-packages (from geopy) (1.52)\n"
          ],
          "name": "stdout"
        }
      ]
    },
    {
      "cell_type": "code",
      "metadata": {
        "id": "mqMBe5f048lg"
      },
      "source": [
        "import pandas as pd \n",
        "import numpy as np"
      ],
      "execution_count": 2,
      "outputs": []
    },
    {
      "cell_type": "code",
      "metadata": {
        "id": "FMpDOUuw49k5"
      },
      "source": [
        "data = pd.read_csv(\"wellbeing-toronto-culture.csv\")"
      ],
      "execution_count": 3,
      "outputs": []
    },
    {
      "cell_type": "code",
      "metadata": {
        "colab": {
          "base_uri": "https://localhost:8080/",
          "height": 204
        },
        "id": "DQca6XR35g-9",
        "outputId": "d6fddc2f-7a3f-4bea-f59e-f97abd1b7831"
      },
      "source": [
        "data.head()"
      ],
      "execution_count": 4,
      "outputs": [
        {
          "output_type": "execute_result",
          "data": {
            "text/html": [
              "<div>\n",
              "<style scoped>\n",
              "    .dataframe tbody tr th:only-of-type {\n",
              "        vertical-align: middle;\n",
              "    }\n",
              "\n",
              "    .dataframe tbody tr th {\n",
              "        vertical-align: top;\n",
              "    }\n",
              "\n",
              "    .dataframe thead th {\n",
              "        text-align: right;\n",
              "    }\n",
              "</style>\n",
              "<table border=\"1\" class=\"dataframe\">\n",
              "  <thead>\n",
              "    <tr style=\"text-align: right;\">\n",
              "      <th></th>\n",
              "      <th>Neighbourhood</th>\n",
              "      <th>Neighbourhood Id</th>\n",
              "      <th>Cultural Location Index</th>\n",
              "    </tr>\n",
              "  </thead>\n",
              "  <tbody>\n",
              "    <tr>\n",
              "      <th>0</th>\n",
              "      <td>West Humber-Clairville</td>\n",
              "      <td>1</td>\n",
              "      <td>0.09</td>\n",
              "    </tr>\n",
              "    <tr>\n",
              "      <th>1</th>\n",
              "      <td>Mount Olive-Silverstone-Jamestown</td>\n",
              "      <td>2</td>\n",
              "      <td>0.13</td>\n",
              "    </tr>\n",
              "    <tr>\n",
              "      <th>2</th>\n",
              "      <td>Thistletown-Beaumond Heights</td>\n",
              "      <td>3</td>\n",
              "      <td>0.20</td>\n",
              "    </tr>\n",
              "    <tr>\n",
              "      <th>3</th>\n",
              "      <td>Rexdale-Kipling</td>\n",
              "      <td>4</td>\n",
              "      <td>0.07</td>\n",
              "    </tr>\n",
              "    <tr>\n",
              "      <th>4</th>\n",
              "      <td>Elms-Old Rexdale</td>\n",
              "      <td>5</td>\n",
              "      <td>0.11</td>\n",
              "    </tr>\n",
              "  </tbody>\n",
              "</table>\n",
              "</div>"
            ],
            "text/plain": [
              "                       Neighbourhood  Neighbourhood Id  Cultural Location Index\n",
              "0             West Humber-Clairville                 1                     0.09\n",
              "1  Mount Olive-Silverstone-Jamestown                 2                     0.13\n",
              "2       Thistletown-Beaumond Heights                 3                     0.20\n",
              "3                    Rexdale-Kipling                 4                     0.07\n",
              "4                   Elms-Old Rexdale                 5                     0.11"
            ]
          },
          "metadata": {
            "tags": []
          },
          "execution_count": 4
        }
      ]
    },
    {
      "cell_type": "code",
      "metadata": {
        "id": "uwRlBqJO5jgN"
      },
      "source": [
        "data = data.drop('Neighbourhood Id', axis=1)"
      ],
      "execution_count": 6,
      "outputs": []
    },
    {
      "cell_type": "code",
      "metadata": {
        "id": "wzC5Cb-g5Kvv"
      },
      "source": [
        "from geopy.exc import GeocoderTimedOut\n",
        "from geopy.geocoders import Nominatim\n",
        "\n",
        "longitude = []\n",
        "latitude = []\n",
        "   \n",
        "\n",
        "def findGeocode(city):\n",
        "\n",
        "    try:\n",
        "          \n",
        "        geolocator = Nominatim(user_agent=\"your_app_name\")\n",
        "          \n",
        "        return geolocator.geocode(city)\n",
        "      \n",
        "    except GeocoderTimedOut:\n",
        "          \n",
        "        return findGeocode(city)    \n",
        "  \n",
        "for i in (data[\"Neighbourhood\"]):\n",
        "      \n",
        "    if findGeocode(i) != None:\n",
        "           \n",
        "        loc = findGeocode(i)\n",
        "          \n",
        "        # coordinates returned from \n",
        "        # function is stored into\n",
        "        # two separate list\n",
        "        latitude.append(loc.latitude)\n",
        "        longitude.append(loc.longitude)\n",
        "       \n",
        "    # if coordinate for a city not\n",
        "    # found, insert \"NaN\" indicating \n",
        "    # missing value \n",
        "    else:\n",
        "        latitude.append(np.nan)\n",
        "        longitude.append(np.nan)"
      ],
      "execution_count": 8,
      "outputs": []
    },
    {
      "cell_type": "code",
      "metadata": {
        "colab": {
          "base_uri": "https://localhost:8080/",
          "height": 419
        },
        "id": "kkjxCX3w52dc",
        "outputId": "09898ee6-4de4-4f49-8b1a-dcb488736fe7"
      },
      "source": [
        "data[\"Longitude\"] = longitude\n",
        "data[\"Latitude\"] = latitude\n",
        "  \n",
        "data"
      ],
      "execution_count": 10,
      "outputs": [
        {
          "output_type": "execute_result",
          "data": {
            "text/html": [
              "<div>\n",
              "<style scoped>\n",
              "    .dataframe tbody tr th:only-of-type {\n",
              "        vertical-align: middle;\n",
              "    }\n",
              "\n",
              "    .dataframe tbody tr th {\n",
              "        vertical-align: top;\n",
              "    }\n",
              "\n",
              "    .dataframe thead th {\n",
              "        text-align: right;\n",
              "    }\n",
              "</style>\n",
              "<table border=\"1\" class=\"dataframe\">\n",
              "  <thead>\n",
              "    <tr style=\"text-align: right;\">\n",
              "      <th></th>\n",
              "      <th>Neighbourhood</th>\n",
              "      <th>Cultural Location Index</th>\n",
              "      <th>Longitude</th>\n",
              "      <th>Latitude</th>\n",
              "    </tr>\n",
              "  </thead>\n",
              "  <tbody>\n",
              "    <tr>\n",
              "      <th>0</th>\n",
              "      <td>West Humber-Clairville</td>\n",
              "      <td>0.09</td>\n",
              "      <td>-79.597039</td>\n",
              "      <td>43.722563</td>\n",
              "    </tr>\n",
              "    <tr>\n",
              "      <th>1</th>\n",
              "      <td>Mount Olive-Silverstone-Jamestown</td>\n",
              "      <td>0.13</td>\n",
              "      <td>-89.873139</td>\n",
              "      <td>34.949044</td>\n",
              "    </tr>\n",
              "    <tr>\n",
              "      <th>2</th>\n",
              "      <td>Thistletown-Beaumond Heights</td>\n",
              "      <td>0.20</td>\n",
              "      <td>NaN</td>\n",
              "      <td>NaN</td>\n",
              "    </tr>\n",
              "    <tr>\n",
              "      <th>3</th>\n",
              "      <td>Rexdale-Kipling</td>\n",
              "      <td>0.07</td>\n",
              "      <td>-79.572292</td>\n",
              "      <td>43.722114</td>\n",
              "    </tr>\n",
              "    <tr>\n",
              "      <th>4</th>\n",
              "      <td>Elms-Old Rexdale</td>\n",
              "      <td>0.11</td>\n",
              "      <td>-79.552173</td>\n",
              "      <td>43.721770</td>\n",
              "    </tr>\n",
              "    <tr>\n",
              "      <th>...</th>\n",
              "      <td>...</td>\n",
              "      <td>...</td>\n",
              "      <td>...</td>\n",
              "      <td>...</td>\n",
              "    </tr>\n",
              "    <tr>\n",
              "      <th>135</th>\n",
              "      <td>West Hill</td>\n",
              "      <td>0.42</td>\n",
              "      <td>-79.187291</td>\n",
              "      <td>43.768914</td>\n",
              "    </tr>\n",
              "    <tr>\n",
              "      <th>136</th>\n",
              "      <td>Woburn</td>\n",
              "      <td>0.36</td>\n",
              "      <td>-71.152277</td>\n",
              "      <td>42.479262</td>\n",
              "    </tr>\n",
              "    <tr>\n",
              "      <th>137</th>\n",
              "      <td>Eglinton East</td>\n",
              "      <td>0.25</td>\n",
              "      <td>-7.168150</td>\n",
              "      <td>55.040548</td>\n",
              "    </tr>\n",
              "    <tr>\n",
              "      <th>138</th>\n",
              "      <td>Scarborough Village</td>\n",
              "      <td>0.50</td>\n",
              "      <td>-79.211632</td>\n",
              "      <td>43.743742</td>\n",
              "    </tr>\n",
              "    <tr>\n",
              "      <th>139</th>\n",
              "      <td>Guildwood</td>\n",
              "      <td>0.46</td>\n",
              "      <td>-79.198229</td>\n",
              "      <td>43.755225</td>\n",
              "    </tr>\n",
              "  </tbody>\n",
              "</table>\n",
              "<p>140 rows × 4 columns</p>\n",
              "</div>"
            ],
            "text/plain": [
              "                         Neighbourhood  ...   Latitude\n",
              "0               West Humber-Clairville  ...  43.722563\n",
              "1    Mount Olive-Silverstone-Jamestown  ...  34.949044\n",
              "2         Thistletown-Beaumond Heights  ...        NaN\n",
              "3                      Rexdale-Kipling  ...  43.722114\n",
              "4                     Elms-Old Rexdale  ...  43.721770\n",
              "..                                 ...  ...        ...\n",
              "135                          West Hill  ...  43.768914\n",
              "136                             Woburn  ...  42.479262\n",
              "137                      Eglinton East  ...  55.040548\n",
              "138                Scarborough Village  ...  43.743742\n",
              "139                          Guildwood  ...  43.755225\n",
              "\n",
              "[140 rows x 4 columns]"
            ]
          },
          "metadata": {
            "tags": []
          },
          "execution_count": 10
        }
      ]
    },
    {
      "cell_type": "code",
      "metadata": {
        "id": "l_EDVe2-63_P"
      },
      "source": [
        "data.to_csv('cultural wellbeing.csv')"
      ],
      "execution_count": 11,
      "outputs": []
    }
  ]
}